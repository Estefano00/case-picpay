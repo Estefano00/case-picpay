{
 "cells": [
  {
   "cell_type": "code",
   "execution_count": 5,
   "id": "3d6ad347",
   "metadata": {},
   "outputs": [
    {
     "name": "stdout",
     "output_type": "stream",
     "text": [
      "{'status': 'modelo carregado e salvo'}\n"
     ]
    }
   ],
   "source": [
    "import requests\n",
    "\n",
    "with open(\"modelo.pkl\", \"rb\") as f:\n",
    "    arquivos = {\"arquivo\": (\"modelo.pkl\", f, \"application/octet-stream\")}\n",
    "    r = requests.post(\"http://localhost:8080/model/load/\", files=arquivos)\n",
    "    print(r.json())          # → {\"status\": \"modelo carregado e salvo\"}"
   ]
  },
  {
   "cell_type": "code",
   "execution_count": 7,
   "id": "bb24a288",
   "metadata": {},
   "outputs": [
    {
     "name": "stdout",
     "output_type": "stream",
     "text": [
      "{'atraso_previsto': 17.26750112883736}\n"
     ]
    }
   ],
   "source": [
    "import requests\n",
    "\n",
    "payload = {\"wind_origin\": 25.3}\n",
    "r = requests.post(\"http://localhost:8080/model/predict/\", json=payload)\n",
    "print(r.json())\n"
   ]
  },
  {
   "cell_type": "code",
   "execution_count": 8,
   "id": "f78dcc0c",
   "metadata": {},
   "outputs": [
    {
     "name": "stdout",
     "output_type": "stream",
     "text": [
      "{'atraso_previsto': 18.009624862298374}\n"
     ]
    }
   ],
   "source": [
    "import requests\n",
    "\n",
    "payload = {\"wind_origin\": 27.3}\n",
    "r = requests.post(\"http://localhost:8080/model/predict/\", json=payload)\n",
    "print(r.json())\n"
   ]
  },
  {
   "cell_type": "code",
   "execution_count": 9,
   "id": "443fb140",
   "metadata": {},
   "outputs": [
    {
     "name": "stdout",
     "output_type": "stream",
     "text": [
      "{'atraso_previsto': 26.803791103811385}\n",
      "{'atraso_previsto': 19.011491902470738}\n",
      "{'atraso_previsto': 22.3510487030453}\n",
      "{'atraso_previsto': 11.590254567860605}\n",
      "{'atraso_previsto': 26.06166737035037}\n",
      "{'atraso_previsto': 23.46423430323682}\n",
      "{'atraso_previsto': 16.042996968626685}\n",
      "{'atraso_previsto': 14.929811368435164}\n",
      "{'atraso_previsto': 24.577419903428343}\n",
      "{'atraso_previsto': 17.156182568818206}\n",
      "{'atraso_previsto': 26.803791103811385}\n",
      "{'atraso_previsto': 15.300873235165671}\n",
      "{'atraso_previsto': 13.816625768243645}\n",
      "{'atraso_previsto': 12.703440168052126}\n",
      "{'atraso_previsto': 14.929811368435164}\n",
      "{'atraso_previsto': 16.042996968626685}\n",
      "{'atraso_previsto': 28.288038570733413}\n",
      "{'atraso_previsto': 13.445563901513138}\n",
      "{'atraso_previsto': 19.011491902470738}\n",
      "{'atraso_previsto': 27.916976704002906}\n"
     ]
    }
   ],
   "source": [
    "from random import randint\n",
    "\n",
    "for i in range(20):\n",
    "    payload = {\"wind_origin\": randint(10, 60)}\n",
    "    r = requests.post(\"http://localhost:8080/model/predict/\", json=payload)\n",
    "    print(r.json())"
   ]
  }
 ],
 "metadata": {
  "kernelspec": {
   "display_name": "Python 3",
   "language": "python",
   "name": "python3"
  },
  "language_info": {
   "codemirror_mode": {
    "name": "ipython",
    "version": 3
   },
   "file_extension": ".py",
   "mimetype": "text/x-python",
   "name": "python",
   "nbconvert_exporter": "python",
   "pygments_lexer": "ipython3",
   "version": "3.11.9"
  }
 },
 "nbformat": 4,
 "nbformat_minor": 5
}
